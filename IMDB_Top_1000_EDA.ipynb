{
 "cells": [
  {
   "cell_type": "markdown",
   "id": "e8113b6a",
   "metadata": {},
   "source": [
    "# 📊 IMDB Top 1000 Movies - Exploratory Data Analysis (EDA)"
   ]
  },
  {
   "cell_type": "markdown",
   "id": "f31511f3",
   "metadata": {},
   "source": [
    "## 📌 Project Overview\n",
    "This notebook explores the **IMDB Top 1000 Movies dataset** to analyze:\n",
    "- Movie ratings distribution\n",
    "- Most popular genres\n",
    "- Revenue trends over time\n",
    "- Relationship between IMDB ratings and box office performance\n"
   ]
  },
  {
   "cell_type": "markdown",
   "id": "9ef09f95",
   "metadata": {},
   "source": [
    "## 📌 Step 1: Load the Dataset"
   ]
  },
  {
   "cell_type": "code",
   "execution_count": null,
   "id": "65af4923",
   "metadata": {},
   "outputs": [],
   "source": [
    "\n",
    "import pandas as pd\n",
    "\n",
    "# Load dataset\n",
    "file_path = \"imdb_top_1000.csv\"\n",
    "df = pd.read_csv(file_path)\n",
    "\n",
    "# Display first few rows\n",
    "df.head()\n"
   ]
  },
  {
   "cell_type": "markdown",
   "id": "7f034770",
   "metadata": {},
   "source": [
    "## 📌 Step 2: Data Cleaning"
   ]
  },
  {
   "cell_type": "code",
   "execution_count": null,
   "id": "4779e734",
   "metadata": {},
   "outputs": [],
   "source": [
    "\n",
    "# Convert Released_Year to integer format\n",
    "df[\"Released_Year\"] = df[\"Released_Year\"].str.extract('(\\d+)').astype(float).astype('Int64')\n",
    "\n",
    "# Convert Gross revenue to numeric format\n",
    "df[\"Gross\"] = df[\"Gross\"].str.replace(\",\", \"\").astype(float)\n",
    "\n",
    "# Fill missing Certificate values with \"Unknown\"\n",
    "df[\"Certificate\"] = df[\"Certificate\"].fillna(\"Unknown\")\n",
    "\n",
    "# Drop rows where Meta_score and Gross are missing\n",
    "df.dropna(subset=[\"Meta_score\", \"Gross\"], inplace=True)\n",
    "\n",
    "# Verify cleaned data\n",
    "df.info()\n"
   ]
  },
  {
   "cell_type": "markdown",
   "id": "2b1e5e9c",
   "metadata": {},
   "source": [
    "## 📌 Step 3: Exploratory Data Analysis (EDA)"
   ]
  },
  {
   "cell_type": "markdown",
   "id": "ae00446a",
   "metadata": {},
   "source": [
    "### 🎬 IMDB Ratings Distribution"
   ]
  },
  {
   "cell_type": "code",
   "execution_count": null,
   "id": "e9976617",
   "metadata": {},
   "outputs": [],
   "source": [
    "\n",
    "import matplotlib.pyplot as plt\n",
    "\n",
    "# Histogram for IMDB Ratings\n",
    "plt.figure(figsize=(8, 5))\n",
    "plt.hist(df[\"IMDB_Rating\"], bins=10, color=\"skyblue\", edgecolor=\"black\")\n",
    "plt.xlabel(\"IMDB Rating\")\n",
    "plt.ylabel(\"Number of Movies\")\n",
    "plt.title(\"Distribution of IMDB Ratings\")\n",
    "plt.grid(axis=\"y\", linestyle=\"--\", alpha=0.7)\n",
    "plt.show()\n"
   ]
  },
  {
   "cell_type": "markdown",
   "id": "f3dd0563",
   "metadata": {},
   "source": [
    "### 🎭 Most Common Movie Genres"
   ]
  },
  {
   "cell_type": "code",
   "execution_count": null,
   "id": "4a494997",
   "metadata": {},
   "outputs": [],
   "source": [
    "\n",
    "# Bar chart for most common genres\n",
    "plt.figure(figsize=(10, 5))\n",
    "df[\"Genre\"].value_counts().head(10).plot(kind=\"bar\", color=\"orange\", edgecolor=\"black\")\n",
    "plt.xlabel(\"Genre\")\n",
    "plt.ylabel(\"Count\")\n",
    "plt.title(\"Top 10 Most Common Movie Genres\")\n",
    "plt.xticks(rotation=45)\n",
    "plt.grid(axis=\"y\", linestyle=\"--\", alpha=0.7)\n",
    "plt.show()\n"
   ]
  },
  {
   "cell_type": "markdown",
   "id": "6ae0193c",
   "metadata": {},
   "source": [
    "### 💰 IMDB Ratings vs. Box Office Revenue"
   ]
  },
  {
   "cell_type": "code",
   "execution_count": null,
   "id": "e8dc0d4b",
   "metadata": {},
   "outputs": [],
   "source": [
    "\n",
    "# Scatter plot: IMDB Rating vs Gross Revenue\n",
    "plt.figure(figsize=(8, 5))\n",
    "plt.scatter(df[\"IMDB_Rating\"], df[\"Gross\"], alpha=0.6, color=\"green\")\n",
    "plt.xlabel(\"IMDB Rating\")\n",
    "plt.ylabel(\"Box Office Revenue ($)\")\n",
    "plt.title(\"IMDB Ratings vs. Box Office Revenue\")\n",
    "plt.grid(alpha=0.5)\n",
    "plt.show()\n"
   ]
  },
  {
   "cell_type": "markdown",
   "id": "f5f2a8d6",
   "metadata": {},
   "source": [
    "## 📌 Step 4: Key Findings & Conclusion"
   ]
  },
  {
   "cell_type": "markdown",
   "id": "e56a2b9f",
   "metadata": {},
   "source": [
    "\n",
    "### 🔹 Key Findings:\n",
    "- Most movies are rated **between 7.0 and 8.0**, with few reaching **9.0+**.\n",
    "- **Drama** is the most dominant genre, often mixed with other categories like **Romance & Comedy**.\n",
    "- **Movies rated around 8.0 perform better at the box office** than those rated 9+.\n",
    "- **Steven Spielberg is the most frequently featured director** in this dataset (13 movies).\n",
    "- **Box office revenue has significantly increased post-2010**, with **2018 having the highest average revenue per movie (~$216.8M)**.\n",
    "\n",
    "### 📌 Next Steps:\n",
    "- Extend analysis to compare IMDB ratings with **Rotten Tomatoes scores**.\n",
    "- Apply **Machine Learning** to predict **box office success based on movie features**.\n"
   ]
  }
 ],
 "metadata": {},
 "nbformat": 4,
 "nbformat_minor": 5
}
